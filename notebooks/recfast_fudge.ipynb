{
 "cells": [
  {
   "cell_type": "code",
   "execution_count": 1,
   "metadata": {},
   "outputs": [],
   "source": [
    "%load_ext autoreload"
   ]
  },
  {
   "cell_type": "code",
   "execution_count": 2,
   "metadata": {},
   "outputs": [],
   "source": [
    "# import classy module\n",
    "%autoreload 2\n",
    "from classy import Class\n",
    "\n",
    "%matplotlib inline\n",
    "import matplotlib.pyplot as plt\n",
    "import numpy as np"
   ]
  },
  {
   "cell_type": "code",
   "execution_count": 6,
   "metadata": {},
   "outputs": [
    {
     "name": "stdout",
     "output_type": "stream",
     "text": [
      "did it set correctly???????\n",
      "b'../hyrec/Alpha_inf.dat'\n",
      "did it set correctly???????\n",
      "b'../hyrec/Alpha_BB_n_250_fine.dat'\n"
     ]
    }
   ],
   "source": [
    "# create instance of the class \"Class\"\n",
    "from classy import Class\n",
    "\n",
    "LambdaCDM = Class()\n",
    "\n",
    "LambdaCDM.set({\n",
    "    'recombination': 'hyrec',\n",
    "    'Alpha_inf hyrec file': '../hyrec/Alpha_inf.dat',\n",
    "    'output':'tCl,pCl,lCl,mPk',\n",
    "    'lensing':'yes','P_k_max_1/Mpc':3.0\n",
    "})\n",
    "\n",
    "LambdaCDM.compute()\n",
    "\n",
    "hyrec_mod = Class()\n",
    "# pass input parameters\n",
    "\n",
    "hyrec_mod.set({\n",
    "    'recombination': 'hyrec',\n",
    "    'Alpha_inf hyrec file': '../hyrec/Alpha_BB_n_250_fine.dat',\n",
    "    'output':'tCl,pCl,lCl,mPk',\n",
    "    'lensing':'yes','P_k_max_1/Mpc':3.0\n",
    "})\n",
    "\n",
    "\n",
    "# run class\n",
    "\n",
    "hyrec_mod.compute()"
   ]
  },
  {
   "cell_type": "code",
   "execution_count": 7,
   "metadata": {},
   "outputs": [
    {
     "name": "stderr",
     "output_type": "stream",
     "text": [
      "/Users/hongwan/anaconda/envs/python3/lib/python3.6/site-packages/ipykernel_launcher.py:13: RuntimeWarning: invalid value encountered in true_divide\n",
      "  del sys.path[0]\n",
      "/Users/hongwan/anaconda/envs/python3/lib/python3.6/site-packages/ipykernel_launcher.py:14: RuntimeWarning: invalid value encountered in true_divide\n",
      "  \n"
     ]
    },
    {
     "data": {
      "text/plain": [
       "Text(0, 0.5, '$(C_\\\\ell - C_\\\\ell^\\\\mathrm{ref})/C_\\\\ell^\\\\mathrm{ref} [\\\\%]$')"
      ]
     },
     "execution_count": 7,
     "metadata": {},
     "output_type": "execute_result"
    },
    {
     "data": {
      "image/png": "[encoded data removed]",
      "text/plain": [
       "<Figure size 432x288 with 1 Axes>"
      ]
     },
     "metadata": {
      "needs_background": "light"
     },
     "output_type": "display_data"
    }
   ],
   "source": [
    "cls_new = hyrec_mod.lensed_cl(2500)\n",
    "cls_std = LambdaCDM.lensed_cl(2500)\n",
    "\n",
    "ll_vec_new = cls_new['ell']\n",
    "ll_vec_std = cls_std['ell']\n",
    "\n",
    "plt.figure()\n",
    "\n",
    "ax = plt.gca()\n",
    "\n",
    "# ax.set_yscale('log')\n",
    "\n",
    "plt.plot(ll_vec_new, (cls_new['tt']/cls_std['tt'] - 1.)*100)\n",
    "plt.plot(ll_vec_new, (cls_new['ee']/cls_std['ee'] - 1.)*100)\n",
    "\n",
    "\n",
    "plt.xlabel(r'$\\ell$')\n",
    "plt.ylabel(r'$(C_\\ell - C_\\ell^\\mathrm{ref})/C_\\ell^\\mathrm{ref} [\\%]$')"
   ]
  },
  {
   "cell_type": "code",
   "execution_count": null,
   "metadata": {},
   "outputs": [],
   "source": [
    "np.max(np.abs(\n",
    "    (hyrec_mod.get_thermodynamics()['x_e'] - LambdaCDM.get_thermodynamics()['x_e'])\n",
    "    /LambdaCDM.get_thermodynamics()['x_e']\n",
    "))\n"
   ]
  },
  {
   "cell_type": "code",
   "execution_count": null,
   "metadata": {},
   "outputs": [],
   "source": [
    "%autoreload\n",
    "# LambdaCDM_hyrec = Class()\n",
    "# LambdaCDM_hyrec.set({'recombination': 'hyrec', 'output':'tCl,pCl,lCl,mPk','lensing':'yes','P_k_max_1/Mpc':3.0})\n",
    "LambdaCDM_newAlpha = Class()\n",
    "LambdaCDM_newAlpha.set({\n",
    "    'recombination': 'hyrec', \n",
    "    'hyrec_Alpha_inf_file': './hyrec/Alpha_inf.dat',\n",
    "    'output':'tCl,pCl,lCl,mPk',\n",
    "    'lensing':'yes',\n",
    "    'P_k_max_1/Mpc':3.0\n",
    "})\n",
    "# LambdaCDM_hyrec.compute()\n",
    "LambdaCDM_newAlpha.compute()"
   ]
  },
  {
   "cell_type": "code",
   "execution_count": null,
   "metadata": {},
   "outputs": [],
   "source": [
    "cls_hyrec=LambdaCDM_hyrec.lensed_cl(2500)\n",
    "cls_newAlpha = LambdaCDM_newAlpha.lensed_cl(2500)\n",
    "\n",
    "ll_vec_hyrec = cls_hyrec['ell']\n",
    "\n",
    "plt.figure()\n",
    "\n",
    "ax = plt.gca()\n",
    "\n",
    "# ax.set_yscale('log')\n",
    "\n",
    "plt.plot(ll_vec_hyrec, (cls_newAlpha['tt']/cls_hyrec['tt'] - 1.)*100)\n",
    "plt.plot(ll_vec_hyrec, (cls_newAlpha['ee']/cls_hyrec['ee'] - 1.)*100)"
   ]
  },
  {
   "cell_type": "code",
   "execution_count": null,
   "metadata": {},
   "outputs": [],
   "source": [
    "a = np.loadtxt('../hyrec/Alpha_inf.dat')\n",
    "a = a/1e5\n",
    "np.savetxt('../hyrec/Alpha_inf.dat', a)"
   ]
  },
  {
   "cell_type": "code",
   "execution_count": null,
   "metadata": {},
   "outputs": [],
   "source": []
  }
 ],
 "metadata": {
  "kernelspec": {
   "display_name": "Python 3",
   "language": "python",
   "name": "python3"
  },
  "language_info": {
   "codemirror_mode": {
    "name": "ipython",
    "version": 3
   },
   "file_extension": ".py",
   "mimetype": "text/x-python",
   "name": "python",
   "nbconvert_exporter": "python",
   "pygments_lexer": "ipython3",
   "version": "3.6.9"
  },
  "toc": {
   "base_numbering": 1,
   "nav_menu": {},
   "number_sections": true,
   "sideBar": true,
   "skip_h1_title": false,
   "title_cell": "Table of Contents",
   "title_sidebar": "Contents",
   "toc_cell": false,
   "toc_position": {},
   "toc_section_display": true,
   "toc_window_display": false
  }
 },
 "nbformat": 4,
 "nbformat_minor": 2
}
