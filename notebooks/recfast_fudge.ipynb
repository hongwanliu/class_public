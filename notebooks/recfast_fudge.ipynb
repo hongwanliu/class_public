{
 "cells": [
  {
   "cell_type": "code",
   "execution_count": 1,
   "metadata": {},
   "outputs": [],
   "source": [
    "%load_ext autoreload"
   ]
  },
  {
   "cell_type": "code",
   "execution_count": 2,
   "metadata": {},
   "outputs": [],
   "source": [
    "# import classy module\n",
    "%autoreload 2\n",
    "from classy import Class\n",
    "\n",
    "%matplotlib inline\n",
    "import matplotlib.pyplot as plt\n",
    "import numpy as np"
   ]
  },
  {
   "cell_type": "code",
   "execution_count": 3,
   "metadata": {},
   "outputs": [],
   "source": [
    "# create instance of the class \"Class\"\n",
    "from classy import Class\n",
    "\n",
    "LambdaCDM = Class()\n",
    "\n",
    "LambdaCDM.set({\n",
    "    'recombination': 'hyrec',\n",
    "#     'Alpha_inf hyrec file': '../hyrec/Alpha_inf.dat',\n",
    "    'output':'tCl,pCl,lCl,mPk',\n",
    "    'lensing':'yes','P_k_max_1/Mpc':3.0\n",
    "})\n",
    "\n",
    "LambdaCDM.compute()\n",
    "\n",
    "hyrec_mod = Class()\n",
    "# pass input parameters\n",
    "\n",
    "hyrec_mod.set({\n",
    "    'recombination': 'recfast',\n",
    "#     'recombination': 'hyrec',\n",
    "#     'Alpha_inf hyrec file': '../hyrec/Alpha_BB_n_250_fine.dat',\n",
    "    'output':'tCl,pCl,lCl,mPk',\n",
    "    'lensing':'yes','P_k_max_1/Mpc':3.0\n",
    "})\n",
    "\n",
    "\n",
    "# run class\n",
    "\n",
    "hyrec_mod.compute()"
   ]
  },
  {
   "cell_type": "code",
   "execution_count": 4,
   "metadata": {},
   "outputs": [
    {
     "name": "stderr",
     "output_type": "stream",
     "text": [
      "/Users/hongwan/anaconda/envs/python3/lib/python3.6/site-packages/ipykernel_launcher.py:13: RuntimeWarning: invalid value encountered in true_divide\n",
      "  del sys.path[0]\n",
      "/Users/hongwan/anaconda/envs/python3/lib/python3.6/site-packages/ipykernel_launcher.py:14: RuntimeWarning: invalid value encountered in true_divide\n",
      "  \n"
     ]
    },
    {
     "data": {
      "text/plain": [
       "Text(0, 0.5, '$(C_\\\\ell - C_\\\\ell^\\\\mathrm{ref})/C_\\\\ell^\\\\mathrm{ref} [\\\\%]$')"
      ]
     },
     "execution_count": 4,
     "metadata": {},
     "output_type": "execute_result"
    },
    {
     "data": {
      "image/png": "[encoded data removed]",
      "text/plain": [
       "<Figure size 432x288 with 1 Axes>"
      ]
     },
     "metadata": {
      "needs_background": "light"
     },
     "output_type": "display_data"
    }
   ],
   "source": [
    "cls_new = hyrec_mod.lensed_cl(2500)\n",
    "cls_std = LambdaCDM.lensed_cl(2500)\n",
    "\n",
    "ll_vec_new = cls_new['ell']\n",
    "ll_vec_std = cls_std['ell']\n",
    "\n",
    "plt.figure()\n",
    "\n",
    "ax = plt.gca()\n",
    "\n",
    "# ax.set_yscale('log')\n",
    "\n",
    "plt.plot(ll_vec_new, (cls_new['tt']/cls_std['tt'] - 1.)*100)\n",
    "plt.plot(ll_vec_new, (cls_new['ee']/cls_std['ee'] - 1.)*100)\n",
    "\n",
    "\n",
    "plt.xlabel(r'$\\ell$')\n",
    "plt.ylabel(r'$(C_\\ell - C_\\ell^\\mathrm{ref})/C_\\ell^\\mathrm{ref} [\\%]$')"
   ]
  },
  {
   "cell_type": "code",
   "execution_count": null,
   "metadata": {},
   "outputs": [],
   "source": [
    "z_rec = LambdaCDM.get_current_derived_parameters(['z_rec'])['z_rec']\n",
    "Hubble_rec = LambdaCDM.Hubble(z_rec)\n",
    "# cs_rec = \n",
    "print(z_rec)\n",
    "print('Hubble at rec.:', LambdaCDM.Hubble(z_rec))\n",
    "print(LambdaCDM.get_thermodynamics()['z'][2661])\n",
    "R = 3 * LambdaCDM.Omega_b() / (4 * LambdaCDM.Omega_g()) / (1 + z_rec)\n",
    "print('Photon-baryon sound speed: ', np.sqrt(1/(3*(1 + R))))\n",
    "print('Sound horizon at rec.: ', LambdaCDM.get_current_derived_parameters(['rs_rec'])['rs_rec'])"
   ]
  },
  {
   "cell_type": "code",
   "execution_count": null,
   "metadata": {},
   "outputs": [],
   "source": [
    "plt.figure()\n",
    "\n",
    "z_vec = LambdaCDM.get_thermodynamics()['z']\n",
    "plt.plot(\n",
    "    z_vec,\n",
    "    LambdaCDM.Hubble(0) * np.sqrt(\n",
    "        LambdaCDM.Omega_Lambda() + LambdaCDM.Omega_m() * (1+z_vec)**3 + LambdaCDM.Omega_g()*(1 + 7/8*(4/11)**(4/3)*3.046) * (1+z_vec)**4\n",
    "    )\n",
    ")\n",
    "plt.plot(\n",
    "    z_vec,\n",
    "   [LambdaCDM.Hubble(z) for z in z_vec]\n",
    ")"
   ]
  },
  {
   "cell_type": "code",
   "execution_count": null,
   "metadata": {},
   "outputs": [],
   "source": [
    "np.stack((ll_vec_new, cls_new['tt'], cls_new['ee']), axis=-1)"
   ]
  },
  {
   "cell_type": "code",
   "execution_count": null,
   "metadata": {},
   "outputs": [],
   "source": [
    "cls_new.shape"
   ]
  },
  {
   "cell_type": "code",
   "execution_count": null,
   "metadata": {},
   "outputs": [],
   "source": [
    "import pickle\n",
    "\n",
    "LambdaCDM_l_Cltt_Clee = np.stack((ll_vec_new, cls_new['tt'], cls_new['ee']), axis=-1)\n",
    "\n",
    "pickle.dump(LambdaCDM_l_Cltt_Clee, open('/Users/hongwan/GitHub/class/hyrec/LambdaCDM_l_Cltt_Clee.p', 'wb'))\n",
    "\n"
   ]
  },
  {
   "cell_type": "code",
   "execution_count": null,
   "metadata": {},
   "outputs": [],
   "source": []
  }
 ],
 "metadata": {
  "kernelspec": {
   "display_name": "Python 3",
   "language": "python",
   "name": "python3"
  },
  "language_info": {
   "codemirror_mode": {
    "name": "ipython",
    "version": 3
   },
   "file_extension": ".py",
   "mimetype": "text/x-python",
   "name": "python",
   "nbconvert_exporter": "python",
   "pygments_lexer": "ipython3",
   "version": "3.6.9"
  },
  "toc": {
   "base_numbering": 1,
   "nav_menu": {},
   "number_sections": true,
   "sideBar": true,
   "skip_h1_title": false,
   "title_cell": "Table of Contents",
   "title_sidebar": "Contents",
   "toc_cell": false,
   "toc_position": {},
   "toc_section_display": true,
   "toc_window_display": false
  }
 },
 "nbformat": 4,
 "nbformat_minor": 2
}
